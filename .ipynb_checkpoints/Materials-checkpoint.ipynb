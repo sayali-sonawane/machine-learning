{
 "cells": [
  {
   "cell_type": "markdown",
   "metadata": {},
   "source": [
    "Courses:\n",
    "\n",
    "Stanford: Statistical Learning\n",
    "https://courses.edx.org/courses/course-v1:StanfordOnline+STATSX0001+1T2020/course/\n",
    "\n"
   ]
  },
  {
   "cell_type": "markdown",
   "metadata": {},
   "source": [
    "Read big data from files quickly:\n",
    "\n",
    "CSV to Parquet conversion http://blogs.quovantis.com/how-to-convert-csv-to-parquet-files/"
   ]
  },
  {
   "cell_type": "markdown",
   "metadata": {},
   "source": [
    "Interviews:\n",
    "    \n",
    "Design big data systems\n",
    "https://www.educative.io/courses/grokking-the-system-design-interview"
   ]
  },
  {
   "cell_type": "code",
   "execution_count": null,
   "metadata": {},
   "outputs": [],
   "source": []
  }
 ],
 "metadata": {
  "kernelspec": {
   "display_name": "Python 3",
   "language": "python",
   "name": "python3"
  },
  "language_info": {
   "codemirror_mode": {
    "name": "ipython",
    "version": 3
   },
   "file_extension": ".py",
   "mimetype": "text/x-python",
   "name": "python",
   "nbconvert_exporter": "python",
   "pygments_lexer": "ipython3",
   "version": "3.7.4"
  }
 },
 "nbformat": 4,
 "nbformat_minor": 2
}
